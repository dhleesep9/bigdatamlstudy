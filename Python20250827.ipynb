{
  "nbformat": 4,
  "nbformat_minor": 0,
  "metadata": {
    "colab": {
      "provenance": [],
      "authorship_tag": "ABX9TyP9VSKLu3IWEnas2TstOEWg",
      "include_colab_link": true
    },
    "kernelspec": {
      "name": "python3",
      "display_name": "Python 3"
    },
    "language_info": {
      "name": "python"
    }
  },
  "cells": [
    {
      "cell_type": "markdown",
      "metadata": {
        "id": "view-in-github",
        "colab_type": "text"
      },
      "source": [
        "<a href=\"https://colab.research.google.com/github/dhleesep9/bigdatamlstudy/blob/main/Python20250827.ipynb\" target=\"_parent\"><img src=\"https://colab.research.google.com/assets/colab-badge.svg\" alt=\"Open In Colab\"/></a>"
      ]
    },
    {
      "cell_type": "markdown",
      "source": [
        "QUIZ: 로또번호 자동 생성기\n",
        "\n",
        "- 조건1) 1 - 45\n",
        "- 조건2) 6개\n",
        "- 조건3) 중복 불가"
      ],
      "metadata": {
        "id": "qmnETsBuJRZb"
      }
    },
    {
      "cell_type": "code",
      "execution_count": null,
      "metadata": {
        "colab": {
          "base_uri": "https://localhost:8080/"
        },
        "id": "aw2_hAUA9uol",
        "outputId": "5e11f029-1e92-4245-ccb3-ce4179d2c73b"
      },
      "outputs": [
        {
          "output_type": "stream",
          "name": "stdout",
          "text": [
            "로또 번호는 37,14,7,26,19,17 입니다.\n"
          ]
        }
      ],
      "source": [
        "import random\n",
        "balls=[]\n",
        "while len(balls) != 6:\n",
        "  a=random.randint(1,46)\n",
        "  if a not in balls:\n",
        "    balls.append(a)\n",
        "print(\"로또 번호는 {0} 입니다.\".format(\",\".join(map(str, balls))))"
      ]
    },
    {
      "cell_type": "markdown",
      "source": [
        "함수\n",
        "\n",
        "사용하는 이유\n",
        "- 생산성\n",
        "- 매번 사용하는 코드 재사용\n",
        "\n",
        "* 파라미터 신경써야함"
      ],
      "metadata": {
        "id": "3E5AMR-USUdP"
      }
    },
    {
      "cell_type": "code",
      "source": [
        "def add(a,b):\n",
        "  return a+b\n",
        "print(\"함수의 결과값:\",add(3,4))"
      ],
      "metadata": {
        "colab": {
          "base_uri": "https://localhost:8080/"
        },
        "id": "Ff1cal9wSyLX",
        "outputId": "f8db820d-be5b-43b5-caee-28fdfc6cfd87"
      },
      "execution_count": null,
      "outputs": [
        {
          "output_type": "stream",
          "name": "stdout",
          "text": [
            "함수의 결과값: 7\n"
          ]
        }
      ]
    },
    {
      "cell_type": "markdown",
      "source": [
        "함수 유형 :"
      ],
      "metadata": {
        "id": "shx-7jcXUir-"
      }
    },
    {
      "cell_type": "code",
      "source": [
        "def type1(a,b):#가장 표준이 되는 함수의 유형\n",
        "  c=a+b\n",
        "  return c\n",
        "def type2():#이런 유형들도 존재한다.\n",
        "  return 1\n",
        "def type3():#return None 임\n",
        "  return\n",
        "def type4(a,b)\n",
        "  return"
      ],
      "metadata": {
        "id": "Z1q8n3HrUz42"
      },
      "execution_count": null,
      "outputs": []
    },
    {
      "cell_type": "markdown",
      "source": [
        "**함수 매개변수 기타 사항**"
      ],
      "metadata": {
        "id": "m7M6RGMgaK10"
      }
    },
    {
      "cell_type": "code",
      "source": [
        "#매개변수 여러개?\n",
        "#가변형 매개변수 갯수 마음대로 해라 *리스트 구조로 들어온다\n",
        "def add(*args):\n",
        "  a=sum(args)\n",
        "  return a\n",
        "add(-1,3,4)"
      ],
      "metadata": {
        "colab": {
          "base_uri": "https://localhost:8080/"
        },
        "id": "-bhdowncaPGM",
        "outputId": "7a7543ec-cd51-4af5-d8f5-be6495a2bd8a"
      },
      "execution_count": null,
      "outputs": [
        {
          "output_type": "execute_result",
          "data": {
            "text/plain": [
              "6"
            ]
          },
          "metadata": {},
          "execution_count": 49
        }
      ]
    },
    {
      "cell_type": "code",
      "source": [
        "#매개변수 초기값 선언?\n",
        "def add(a,b,c=0):#끝부터 채워야 한다. (a=0,b,c) 이런 방식 안됨\n",
        "  sum=0\n",
        "  sum=a+b+c\n",
        "  return sum\n",
        "add(1,2,4)"
      ],
      "metadata": {
        "colab": {
          "base_uri": "https://localhost:8080/"
        },
        "id": "UapfGbJfa5Ja",
        "outputId": "4dedc8e0-eb23-4082-b668-16ddd39eed2c"
      },
      "execution_count": null,
      "outputs": [
        {
          "output_type": "execute_result",
          "data": {
            "text/plain": [
              "7"
            ]
          },
          "metadata": {},
          "execution_count": 52
        }
      ]
    },
    {
      "cell_type": "code",
      "source": [
        "#참고 : 함수 만들 때 요령\n",
        "#1단계 : 함수로 구성할 것을 먼저 확인/테스트\n",
        "#def func(a,b): return 바로 만들지 말고 해당되는 함수의 기능을 먼저 구상을 하고 그 다음 구현"
      ],
      "metadata": {
        "id": "rWQ6ctjGdssy"
      },
      "execution_count": null,
      "outputs": []
    },
    {
      "cell_type": "markdown",
      "source": [
        "Tip 한꺼번에 들여쓰기 내려쓰기: (블럭처리) Ctrl+\"]/[\" 사용"
      ],
      "metadata": {
        "id": "FvkrZsQ9eoYx"
      }
    },
    {
      "cell_type": "code",
      "source": [
        "def fact(n):\n",
        "  if n==1:\n",
        "    return 1\n",
        "  return n*fact(n-1)\n",
        "print(fact(5))"
      ],
      "metadata": {
        "colab": {
          "base_uri": "https://localhost:8080/"
        },
        "id": "pjr5grgpfpFx",
        "outputId": "dbb12f32-ef18-45ec-bbbe-d5c9f55614f0"
      },
      "execution_count": null,
      "outputs": [
        {
          "output_type": "stream",
          "name": "stdout",
          "text": [
            "120\n"
          ]
        }
      ]
    },
    {
      "cell_type": "code",
      "source": [
        "# 1단계: 함수로 구성할 것을 먼저 확인/테스트\n",
        "num = 4\n",
        "ans = 1\n",
        "for i in range(1,num+1):\n",
        "  ans= ans*i\n",
        "  print(i,ans)\n",
        "# 2단계: 함수 문법구조에 맞춰 수정/보완작업\n",
        "def fact(num):\n",
        "  ans=1\n",
        "  for i in range(1,num+1):\n",
        "    ans*=i\n",
        "  return ans\n",
        "#3단계 함수 테스트:\n",
        "print(fact(4))"
      ],
      "metadata": {
        "colab": {
          "base_uri": "https://localhost:8080/"
        },
        "id": "i45Vj-qNhKiZ",
        "outputId": "a67908b1-f942-4c0e-9cf8-e6b50095e848"
      },
      "execution_count": null,
      "outputs": [
        {
          "output_type": "stream",
          "name": "stdout",
          "text": [
            "1 1\n",
            "2 2\n",
            "3 6\n",
            "4 24\n",
            "24\n"
          ]
        }
      ]
    },
    {
      "cell_type": "code",
      "source": [
        "def game(n):\n",
        "  for i in range(1,n+1):\n",
        "    i=str(i)\n",
        "    flag=0\n",
        "    for j in i:\n",
        "      if j==\"3\":\n",
        "        flag=1\n",
        "        print(\"박수\")\n",
        "    if flag==0:\n",
        "      print(i)\n",
        "  return\n",
        "game(33)"
      ],
      "metadata": {
        "id": "e5p0vPJYhh6v",
        "colab": {
          "base_uri": "https://localhost:8080/"
        },
        "outputId": "51e11b68-4eee-4cbb-90d4-c9d11ef69e1b"
      },
      "execution_count": 66,
      "outputs": [
        {
          "output_type": "stream",
          "name": "stdout",
          "text": [
            "1\n",
            "2\n",
            "박수\n",
            "4\n",
            "5\n",
            "6\n",
            "7\n",
            "8\n",
            "9\n",
            "10\n",
            "11\n",
            "12\n",
            "박수\n",
            "14\n",
            "15\n",
            "16\n",
            "17\n",
            "18\n",
            "19\n",
            "20\n",
            "21\n",
            "22\n",
            "박수\n",
            "24\n",
            "25\n",
            "26\n",
            "27\n",
            "28\n",
            "29\n",
            "박수\n",
            "박수\n",
            "박수\n",
            "박수\n",
            "박수\n"
          ]
        }
      ]
    }
  ]
}