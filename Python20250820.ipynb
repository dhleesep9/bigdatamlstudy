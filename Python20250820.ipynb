{
  "nbformat": 4,
  "nbformat_minor": 0,
  "metadata": {
    "colab": {
      "provenance": [],
      "authorship_tag": "ABX9TyM+QckbOfKq4PQ80heE7Rok",
      "include_colab_link": true
    },
    "kernelspec": {
      "name": "python3",
      "display_name": "Python 3"
    },
    "language_info": {
      "name": "python"
    }
  },
  "cells": [
    {
      "cell_type": "markdown",
      "metadata": {
        "id": "view-in-github",
        "colab_type": "text"
      },
      "source": [
        "<a href=\"https://colab.research.google.com/github/dhleesep9/bigdatamlstudy/blob/main/Python20250820.ipynb\" target=\"_parent\"><img src=\"https://colab.research.google.com/assets/colab-badge.svg\" alt=\"Open In Colab\"/></a>"
      ]
    },
    {
      "cell_type": "code",
      "execution_count": null,
      "metadata": {
        "id": "oDSMfuFm42Ri"
      },
      "outputs": [],
      "source": [
        "#sql wikidocs 로 공부하기\n",
        "#https://i.am.ai/roadmap/#introduction\n",
        "#mysql workbench로 공부하기"
      ]
    },
    {
      "cell_type": "code",
      "source": [
        "#문자열 join(\"문자/자료구조\")\n",
        "print(\",\".join(\"가나다라\"))\n",
        "print(\",\".join(['가','나','다','라']))#둘이 같다."
      ],
      "metadata": {
        "colab": {
          "base_uri": "https://localhost:8080/"
        },
        "id": "9WS486gwJ0YU",
        "outputId": "146347ab-ecd3-4cc0-99b4-fcac74777d6d"
      },
      "execution_count": null,
      "outputs": [
        {
          "output_type": "stream",
          "name": "stdout",
          "text": [
            "가,나,다,라\n",
            "가,나,다,라\n"
          ]
        }
      ]
    },
    {
      "cell_type": "markdown",
      "source": [
        "참고: 변수 생성규칙(유의사항)\n",
        "\n",
        "- Python 명령어는 사용불가\n",
        "- 띄어쓰기 사용불가\n",
        "- 첫글자는 숫자불가\n",
        "- 언더바_ 제외 특수문자 사용불가"
      ],
      "metadata": {
        "id": "zhu97BYeWeDW"
      }
    },
    {
      "cell_type": "code",
      "source": [
        "#대소문자 변환\n",
        "print(\"hi\".upper())\n",
        "print(\"HI\".lower())\n",
        "print(\"hello\".capitalize())"
      ],
      "metadata": {
        "colab": {
          "base_uri": "https://localhost:8080/"
        },
        "id": "eomQOm34M3r6",
        "outputId": "13cd0a43-1cd5-470f-efb4-3bfe8530c66f"
      },
      "execution_count": null,
      "outputs": [
        {
          "output_type": "stream",
          "name": "stdout",
          "text": [
            "HI\n",
            "hi\n",
            "Hello\n"
          ]
        }
      ]
    },
    {
      "cell_type": "code",
      "source": [
        "#공백제거\n",
        "print(\" abc \".strip())\n",
        "print(\" abc \".lstrip())\n",
        "print(\" abc \".rstrip())"
      ],
      "metadata": {
        "colab": {
          "base_uri": "https://localhost:8080/"
        },
        "id": "ut01vExINP1R",
        "outputId": "30a932d0-b36f-4833-9dba-3724fc884738"
      },
      "execution_count": null,
      "outputs": [
        {
          "output_type": "stream",
          "name": "stdout",
          "text": [
            "abc\n",
            "abc \n",
            " abc\n"
          ]
        }
      ]
    },
    {
      "cell_type": "code",
      "source": [
        "#기타\n",
        "print(\"abc\".isalpha())\n",
        "print(\"1 23\".isdigit())\n",
        "print(\"abc\".startswith(\"a\"))\n",
        "print(\"abc\".endswith(\"c\"))\n",
        "print(\"123abc\".isalnum())"
      ],
      "metadata": {
        "colab": {
          "base_uri": "https://localhost:8080/"
        },
        "id": "VdpGD28uNi1h",
        "outputId": "56834dd9-06c2-4127-854f-2c66142e52e3"
      },
      "execution_count": null,
      "outputs": [
        {
          "output_type": "stream",
          "name": "stdout",
          "text": [
            "True\n",
            "False\n",
            "True\n",
            "True\n",
            "True\n"
          ]
        }
      ]
    },
    {
      "cell_type": "code",
      "source": [
        "#문자열의 길이\n",
        "print(len(\"안냐세여\"))"
      ],
      "metadata": {
        "colab": {
          "base_uri": "https://localhost:8080/"
        },
        "id": "FN6iC1cCPOdo",
        "outputId": "07c3932a-b405-4521-ad45-a6ba606be2d9"
      },
      "execution_count": null,
      "outputs": [
        {
          "output_type": "stream",
          "name": "stdout",
          "text": [
            "4\n"
          ]
        }
      ]
    },
    {
      "cell_type": "code",
      "source": [
        "#포맷팅\n",
        "print(\"안녕하세요 저는 {0} 입니다\".format(\"이두호\"))\n",
        "print(\"지금 온도는 {a}도입니다\".format(a=30))\n",
        "print(\"제통장에는 {0}만원이 {1}습니다\".format(200,\"없\")) #숫자 자유자재로 표현가능"
      ],
      "metadata": {
        "colab": {
          "base_uri": "https://localhost:8080/"
        },
        "id": "fr831LklQsHH",
        "outputId": "5566af40-c21f-460a-82fb-5bab50434996"
      },
      "execution_count": null,
      "outputs": [
        {
          "output_type": "stream",
          "name": "stdout",
          "text": [
            "안녕하세요 저는 이두호 입니다\n",
            "지금 온도는 30도입니다\n",
            "제통장에는 200만원이 없습니다\n"
          ]
        }
      ]
    },
    {
      "cell_type": "code",
      "source": [
        "#2. 자료구조: \"식별\" > \"인덱스\" > \"함수\"\n",
        "# 2-1)리스트list: []\n",
        "odd=[1,3,5,7,9]\n",
        "today_task=[20250820, \"수요일\", True, \"강남역\"]\n",
        "print(odd)\n",
        "print(today_task)\n",
        "print(today_task[1])\n",
        "# nested list 다중리스트\n",
        "tomm_task=[20250821, \"목요일\", False, [\"양재역\", \"meet friend\"]]\n",
        "print(tomm_task[3][0])\n",
        "tomm_task.append(\"dd\")#리스트 자료구조에 추가 보통업계에서 지우는 것을 하지않는다.\n",
        "print(tomm_task)\n",
        "# 2-1) 리스트: 데이터/수정/변경\n",
        "tomm_task[0]=20250822\n",
        "tomm_task[1]=\"금요일\"\n",
        "tomm_task[2]=True\n",
        "print(tomm_task)\n",
        "# 2-2) 리스트: 데이터 삭제\n",
        "#del tomm_task[-1]\n",
        "#tomm_task.remove(\"dd\")\n",
        "tomm_task.pop()#마지막을반환하며 지워진다\n",
        "print(tomm_task)"
      ],
      "metadata": {
        "colab": {
          "base_uri": "https://localhost:8080/"
        },
        "id": "5cvFED2MTGC-",
        "outputId": "74c6a211-e306-477d-de97-75b3e94c13c6"
      },
      "execution_count": null,
      "outputs": [
        {
          "output_type": "stream",
          "name": "stdout",
          "text": [
            "[1, 3, 5, 7, 9]\n",
            "[20250820, '수요일', True, '강남역']\n",
            "수요일\n",
            "양재역\n",
            "[20250821, '목요일', False, ['양재역', 'meet friend'], 'dd']\n",
            "[20250822, '금요일', True, ['양재역', 'meet friend'], 'dd']\n",
            "[20250822, '금요일', True, ['양재역', 'meet friend']]\n"
          ]
        }
      ]
    },
    {
      "cell_type": "code",
      "source": [
        "print([20250821, \"목요일\", False]+[1,2])\n",
        "print([20250821, \"목요일\", False]*3)"
      ],
      "metadata": {
        "colab": {
          "base_uri": "https://localhost:8080/"
        },
        "id": "3Sbt_pCtfJE6",
        "outputId": "247f10b8-dbaf-4ed7-85fa-cb18adf5cb0f"
      },
      "execution_count": null,
      "outputs": [
        {
          "output_type": "stream",
          "name": "stdout",
          "text": [
            "[20250821, '목요일', False, 1, 2]\n",
            "[20250821, '목요일', False, 20250821, '목요일', False, 20250821, '목요일', False]\n"
          ]
        }
      ]
    }
  ]
}