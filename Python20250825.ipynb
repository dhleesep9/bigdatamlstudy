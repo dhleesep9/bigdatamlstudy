{
  "nbformat": 4,
  "nbformat_minor": 0,
  "metadata": {
    "colab": {
      "provenance": [],
      "authorship_tag": "ABX9TyNQH/7BwshQ5f42DlxDhGlI",
      "include_colab_link": true
    },
    "kernelspec": {
      "name": "python3",
      "display_name": "Python 3"
    },
    "language_info": {
      "name": "python"
    }
  },
  "cells": [
    {
      "cell_type": "markdown",
      "metadata": {
        "id": "view-in-github",
        "colab_type": "text"
      },
      "source": [
        "<a href=\"https://colab.research.google.com/github/dhleesep9/bigdatamlstudy/blob/main/Python20250825.ipynb\" target=\"_parent\"><img src=\"https://colab.research.google.com/assets/colab-badge.svg\" alt=\"Open In Colab\"/></a>"
      ]
    },
    {
      "cell_type": "code",
      "execution_count": null,
      "metadata": {
        "colab": {
          "base_uri": "https://localhost:8080/"
        },
        "id": "-mJUJAoMnTv9",
        "outputId": "2a26c4d6-f40d-4a1f-9ce2-d0c035a8606f"
      },
      "outputs": [
        {
          "output_type": "execute_result",
          "data": {
            "text/plain": [
              "[1, 2, 3, 4, 5]"
            ]
          },
          "metadata": {},
          "execution_count": 2
        }
      ],
      "source": [
        "#Q4\n",
        "list(set([1,1,1,2,2,2,3,3,3,4,4,5]))"
      ]
    },
    {
      "cell_type": "code",
      "source": [],
      "metadata": {
        "id": "sUuT9D6ww952"
      },
      "execution_count": null,
      "outputs": []
    },
    {
      "cell_type": "markdown",
      "source": [
        "3-2) for: 반복문 loop\n",
        "  - 유형1) 반복할 횟수를 설정: range()\n",
        "    - for i in range(n): 유형\n",
        "  - 유형2) 반복할 자료 만큼 반복: 주로 List 자료구조 사용\n",
        "    - for j in [\"a\",\"z\",...]:유형"
      ],
      "metadata": {
        "id": "8O2XFvlt8cuC"
      }
    },
    {
      "cell_type": "code",
      "source": [
        "for i in range(5):\n",
        "  print(\"안녕\")\n",
        "print(\"끝\")"
      ],
      "metadata": {
        "colab": {
          "base_uri": "https://localhost:8080/"
        },
        "id": "gtTqc7n59BNI",
        "outputId": "f77f8443-89c4-4248-bb75-cc16e7671bd0"
      },
      "execution_count": null,
      "outputs": [
        {
          "output_type": "stream",
          "name": "stdout",
          "text": [
            "안녕\n",
            "안녕\n",
            "안녕\n",
            "안녕\n",
            "안녕\n",
            "끝\n"
          ]
        }
      ]
    },
    {
      "cell_type": "code",
      "source": [
        "#들여쓰기가 굉장히 중요한 요소이다.\n",
        "for cnt in ['one','two','three']:\n",
        "  print(cnt)\n",
        "for cnt in [10, 20, 30]:\n",
        "  print(cnt+3)\n",
        "for cnt in \"Hello\":\n",
        "  print(cnt)"
      ],
      "metadata": {
        "colab": {
          "base_uri": "https://localhost:8080/"
        },
        "id": "vP8RnGH_9K3A",
        "outputId": "d718b0d6-642e-497e-c402-c33e324088e3"
      },
      "execution_count": null,
      "outputs": [
        {
          "output_type": "stream",
          "name": "stdout",
          "text": [
            "one\n",
            "two\n",
            "three\n",
            "13\n",
            "23\n",
            "33\n",
            "H\n",
            "e\n",
            "l\n",
            "l\n",
            "o\n"
          ]
        }
      ]
    },
    {
      "cell_type": "code",
      "source": [
        "marks = [90,25,67,45,80] #시험 점수 리스트\n",
        "\n",
        "number = 0\n",
        "for mark in [90,25,100,0,80]:\n",
        "  number = number +1\n",
        "  if mark==100:\n",
        "    print(\"당신은 만점입니다. 축하드립니다.\")\n",
        "  if mark==0:\n",
        "    print(f\"{number}번 학생 0점! 업무종료.\")\n",
        "    break\n",
        "  elif mark >= 60:\n",
        "    print(f\"{number}번 학생은 합격입니다.\")\n",
        "  else:\n",
        "    print(f\"{number}번 학생은 불합격입니다.\")"
      ],
      "metadata": {
        "colab": {
          "base_uri": "https://localhost:8080/"
        },
        "id": "ynFkJipB-f3J",
        "outputId": "d7a14b86-7c4c-4972-e19b-3b48887c3dfb"
      },
      "execution_count": null,
      "outputs": [
        {
          "output_type": "stream",
          "name": "stdout",
          "text": [
            "1번 학생은 합격입니다.\n",
            "2번 학생은 불합격입니다.\n",
            "당신은 만점입니다. 축하드립니다.\n",
            "3번 학생은 합격입니다.\n",
            "4번 학생 0점! 업무종료.\n"
          ]
        }
      ]
    },
    {
      "cell_type": "markdown",
      "source": [
        "Quiz: 구구단 출력\n",
        "- (2~9까지) 구구단 출력\n",
        "- (2~9중에서 1개)입력받은 값에 따라 구구단 출력"
      ],
      "metadata": {
        "id": "FPZ7kCecDo0m"
      }
    },
    {
      "cell_type": "code",
      "source": [
        "for i in [2,3,4,5,6,7,8,9]:\n",
        "  print(\"-\"*10)\n",
        "  for j in [1,2,3,4,5,6,7,8,9]:\n",
        "    print(f\"{i}x{j}={i*j}\")"
      ],
      "metadata": {
        "colab": {
          "base_uri": "https://localhost:8080/"
        },
        "id": "C6tCZvsaHk58",
        "outputId": "3e96d2e4-0ae2-4947-96ac-59e7b8ac2b89"
      },
      "execution_count": null,
      "outputs": [
        {
          "output_type": "stream",
          "name": "stdout",
          "text": [
            "----------\n",
            "2x1=2\n",
            "2x2=4\n",
            "2x3=6\n",
            "2x4=8\n",
            "2x5=10\n",
            "2x6=12\n",
            "2x7=14\n",
            "2x8=16\n",
            "2x9=18\n",
            "----------\n",
            "3x1=3\n",
            "3x2=6\n",
            "3x3=9\n",
            "3x4=12\n",
            "3x5=15\n",
            "3x6=18\n",
            "3x7=21\n",
            "3x8=24\n",
            "3x9=27\n",
            "----------\n",
            "4x1=4\n",
            "4x2=8\n",
            "4x3=12\n",
            "4x4=16\n",
            "4x5=20\n",
            "4x6=24\n",
            "4x7=28\n",
            "4x8=32\n",
            "4x9=36\n",
            "----------\n",
            "5x1=5\n",
            "5x2=10\n",
            "5x3=15\n",
            "5x4=20\n",
            "5x5=25\n",
            "5x6=30\n",
            "5x7=35\n",
            "5x8=40\n",
            "5x9=45\n",
            "----------\n",
            "6x1=6\n",
            "6x2=12\n",
            "6x3=18\n",
            "6x4=24\n",
            "6x5=30\n",
            "6x6=36\n",
            "6x7=42\n",
            "6x8=48\n",
            "6x9=54\n",
            "----------\n",
            "7x1=7\n",
            "7x2=14\n",
            "7x3=21\n",
            "7x4=28\n",
            "7x5=35\n",
            "7x6=42\n",
            "7x7=49\n",
            "7x8=56\n",
            "7x9=63\n",
            "----------\n",
            "8x1=8\n",
            "8x2=16\n",
            "8x3=24\n",
            "8x4=32\n",
            "8x5=40\n",
            "8x6=48\n",
            "8x7=56\n",
            "8x8=64\n",
            "8x9=72\n",
            "----------\n",
            "9x1=9\n",
            "9x2=18\n",
            "9x3=27\n",
            "9x4=36\n",
            "9x5=45\n",
            "9x6=54\n",
            "9x7=63\n",
            "9x8=72\n",
            "9x9=81\n"
          ]
        }
      ]
    },
    {
      "cell_type": "code",
      "source": [
        "for j in range(2,10):\n",
        "  for i in range(1,10):\n",
        "    print(f\"{j}x{i}={n*i}\")\n",
        "  print(\"-\"*10)"
      ],
      "metadata": {
        "colab": {
          "base_uri": "https://localhost:8080/"
        },
        "id": "T8quWNhqC-Z_",
        "outputId": "3e70a1ad-a42c-49d0-93ac-1e6dfd460dd5"
      },
      "execution_count": null,
      "outputs": [
        {
          "output_type": "stream",
          "name": "stdout",
          "text": [
            "2x1=9\n",
            "2x2=18\n",
            "2x3=27\n",
            "2x4=36\n",
            "2x5=45\n",
            "2x6=54\n",
            "2x7=63\n",
            "2x8=72\n",
            "2x9=81\n",
            "----------\n",
            "3x1=9\n",
            "3x2=18\n",
            "3x3=27\n",
            "3x4=36\n",
            "3x5=45\n",
            "3x6=54\n",
            "3x7=63\n",
            "3x8=72\n",
            "3x9=81\n",
            "----------\n",
            "4x1=9\n",
            "4x2=18\n",
            "4x3=27\n",
            "4x4=36\n",
            "4x5=45\n",
            "4x6=54\n",
            "4x7=63\n",
            "4x8=72\n",
            "4x9=81\n",
            "----------\n",
            "5x1=9\n",
            "5x2=18\n",
            "5x3=27\n",
            "5x4=36\n",
            "5x5=45\n",
            "5x6=54\n",
            "5x7=63\n",
            "5x8=72\n",
            "5x9=81\n",
            "----------\n",
            "6x1=9\n",
            "6x2=18\n",
            "6x3=27\n",
            "6x4=36\n",
            "6x5=45\n",
            "6x6=54\n",
            "6x7=63\n",
            "6x8=72\n",
            "6x9=81\n",
            "----------\n",
            "7x1=9\n",
            "7x2=18\n",
            "7x3=27\n",
            "7x4=36\n",
            "7x5=45\n",
            "7x6=54\n",
            "7x7=63\n",
            "7x8=72\n",
            "7x9=81\n",
            "----------\n",
            "8x1=9\n",
            "8x2=18\n",
            "8x3=27\n",
            "8x4=36\n",
            "8x5=45\n",
            "8x6=54\n",
            "8x7=63\n",
            "8x8=72\n",
            "8x9=81\n",
            "----------\n",
            "9x1=9\n",
            "9x2=18\n",
            "9x3=27\n",
            "9x4=36\n",
            "9x5=45\n",
            "9x6=54\n",
            "9x7=63\n",
            "9x8=72\n",
            "9x9=81\n",
            "----------\n"
          ]
        }
      ]
    },
    {
      "cell_type": "code",
      "source": [
        "#파이썬으로부터(외부로부터) 입력값을 받는 함수 : input() vs print()\n",
        "#input 을 통해 입력된 결과는 무조건 문자형이다.\n",
        "in_number =int(input(\"입력값으로 구구단 출력, 어떤 숫자?:\"))\n",
        "for i in range(1,10):\n",
        "  print(f\"{in_number}x{i}={in_number*i}\")"
      ],
      "metadata": {
        "colab": {
          "base_uri": "https://localhost:8080/"
        },
        "id": "1VBaXKNGIgRE",
        "outputId": "37a01e3a-d9b2-4191-b4eb-608f05ccdd66"
      },
      "execution_count": null,
      "outputs": [
        {
          "output_type": "stream",
          "name": "stdout",
          "text": [
            "입력값으로 구구단 출력, 어떤 숫자?:894\n",
            "894x1=894\n",
            "894x2=1788\n",
            "894x3=2682\n",
            "894x4=3576\n",
            "894x5=4470\n",
            "894x6=5364\n",
            "894x7=6258\n",
            "894x8=7152\n",
            "894x9=8046\n"
          ]
        }
      ]
    },
    {
      "cell_type": "code",
      "source": [
        "n=int(input(\"몇개를 표시할까?:\"))\n",
        "for i in range(n+1):\n",
        "  print(\"*\"*i)"
      ],
      "metadata": {
        "colab": {
          "base_uri": "https://localhost:8080/"
        },
        "id": "t64imCn0J5GK",
        "outputId": "7ac8b026-a17d-4f88-e11e-92fd19e4a3c4"
      },
      "execution_count": null,
      "outputs": [
        {
          "output_type": "stream",
          "name": "stdout",
          "text": [
            "몇개를 표시할까?:8\n",
            "\n",
            "*\n",
            "**\n",
            "***\n",
            "****\n",
            "*****\n",
            "******\n",
            "*******\n",
            "********\n"
          ]
        }
      ]
    },
    {
      "cell_type": "code",
      "source": [
        "#index와 같이 나오게하는 함수\n",
        "for i, cnt in enumerate(\"Hello\"):\n",
        "  print(i,cnt)"
      ],
      "metadata": {
        "colab": {
          "base_uri": "https://localhost:8080/"
        },
        "id": "mJ_Ph00iL-WL",
        "outputId": "34362b9f-034e-4528-d6e1-f99476b00019"
      },
      "execution_count": null,
      "outputs": [
        {
          "output_type": "stream",
          "name": "stdout",
          "text": [
            "0 H\n",
            "1 e\n",
            "2 l\n",
            "3 l\n",
            "4 o\n"
          ]
        }
      ]
    },
    {
      "cell_type": "code",
      "source": [
        "#리스트 컴프리핸션\n",
        "a=[1,2,3,4]\n",
        "result=[num*3 for num in[1,2,3,4]]\n",
        "print(result)"
      ],
      "metadata": {
        "colab": {
          "base_uri": "https://localhost:8080/"
        },
        "id": "F3vaiik1Mtax",
        "outputId": "33c040ae-3209-4470-d485-36ade8bced62"
      },
      "execution_count": null,
      "outputs": [
        {
          "output_type": "stream",
          "name": "stdout",
          "text": [
            "[3, 6, 9, 12]\n"
          ]
        }
      ]
    },
    {
      "cell_type": "code",
      "source": [
        "#while : if+for\n",
        "\n",
        "treeHit=0\n",
        "while treeHit<10:\n",
        "  treeHit = treeHit +1\n",
        "  print(\"나무를 %d번 찍었습니다.\" %treeHit)\n",
        "  if treeHit==10:\n",
        "    print(\"나무가 넘어갑니다.\")"
      ],
      "metadata": {
        "colab": {
          "base_uri": "https://localhost:8080/"
        },
        "id": "hRaaPqheM7I5",
        "outputId": "5bd8e40b-c87a-42fd-f9cb-ddc628cac658"
      },
      "execution_count": null,
      "outputs": [
        {
          "output_type": "stream",
          "name": "stdout",
          "text": [
            "나무를 1번 찍었습니다.\n",
            "나무를 2번 찍었습니다.\n",
            "나무를 3번 찍었습니다.\n",
            "나무를 4번 찍었습니다.\n",
            "나무를 5번 찍었습니다.\n",
            "나무를 6번 찍었습니다.\n",
            "나무를 7번 찍었습니다.\n",
            "나무를 8번 찍었습니다.\n",
            "나무를 9번 찍었습니다.\n",
            "나무를 10번 찍었습니다.\n",
            "나무가 넘어갑니다.\n"
          ]
        }
      ]
    }
  ]
}