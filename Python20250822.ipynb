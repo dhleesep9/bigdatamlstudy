{
  "nbformat": 4,
  "nbformat_minor": 0,
  "metadata": {
    "colab": {
      "provenance": [],
      "authorship_tag": "ABX9TyNYuzr3GBvlxO4TQWSiqFWd",
      "include_colab_link": true
    },
    "kernelspec": {
      "name": "python3",
      "display_name": "Python 3"
    },
    "language_info": {
      "name": "python"
    }
  },
  "cells": [
    {
      "cell_type": "markdown",
      "metadata": {
        "id": "view-in-github",
        "colab_type": "text"
      },
      "source": [
        "<a href=\"https://colab.research.google.com/github/dhleesep9/bigdatamlstudy/blob/main/Python20250822.ipynb\" target=\"_parent\"><img src=\"https://colab.research.google.com/assets/colab-badge.svg\" alt=\"Open In Colab\"/></a>"
      ]
    },
    {
      "cell_type": "code",
      "execution_count": 5,
      "metadata": {
        "colab": {
          "base_uri": "https://localhost:8080/"
        },
        "id": "PtW13PJBS-xO",
        "outputId": "47d9e75c-3518-4647-c985-763ccb92caaa"
      },
      "outputs": [
        {
          "output_type": "stream",
          "name": "stdout",
          "text": [
            "1\n",
            "200 seconds는 3분 20초 입니다\n",
            "70.0\n",
            "1\n",
            "010-1234-5678\n",
            "010-1234-5678\n"
          ]
        }
      ],
      "source": [
        "#Q1\n",
        "print(13 %2) #나머지 1 odd, 0 even\n",
        "\n",
        "#Q2\n",
        "t=200\n",
        "print(f'{t} seconds는 {t//60}분 {t%60}초 입니다')\n",
        "\n",
        "#Q3\n",
        "print(sum([80,75,55])/3)\n",
        "\n",
        "#Q4\n",
        "print(\"891010-1234567\"[7])\n",
        "\n",
        "#Q5\n",
        "print(\"010#1234#5678\".replace(\"#\",\"-\"))\n",
        "print(\"011#1234#5678\".replace(\"#\",\"-\").replace(\"011\",\"010\"))#python의 파이프라인적 특성을 이용"
      ]
    },
    {
      "cell_type": "code",
      "source": [
        "# 2-1)리스트:sort()\n",
        "lst_test=[100,102,2,30,-1]\n",
        "print(lst_test)\n",
        "lst_test.sort()#오름차순\n",
        "print(lst_test)\n",
        "lst_test.reverse()#내림차순으로 만들기\n",
        "print(lst_test)\n",
        "lst_test.sort(reverse=True)#얘도 가능\n",
        "print(lst_test)\n",
        "\n",
        "#2-1) 리스트:index()\n",
        "print(lst_test)\n",
        "print(lst_test.index(100))"
      ],
      "metadata": {
        "colab": {
          "base_uri": "https://localhost:8080/"
        },
        "id": "vm648wFIeKhh",
        "outputId": "0930b34c-f6a1-483e-f631-74295c381a24"
      },
      "execution_count": 7,
      "outputs": [
        {
          "output_type": "stream",
          "name": "stdout",
          "text": [
            "[100, 102, 2, 30, -1]\n",
            "[-1, 2, 30, 100, 102]\n",
            "[102, 100, 30, 2, -1]\n",
            "[102, 100, 30, 2, -1]\n"
          ]
        }
      ]
    },
    {
      "cell_type": "code",
      "source": [
        "#2-1) 리스트:insert()\n",
        "lst_test=[100,102,2,30,-1]\n",
        "print(lst_test)\n",
        "lst_test.insert(1,101)#껴놓을 index위치, 껴놓을 값\n",
        "print(lst_test)"
      ],
      "metadata": {
        "colab": {
          "base_uri": "https://localhost:8080/"
        },
        "id": "vY_gG1RVfd7Q",
        "outputId": "01e51743-05c0-429c-88df-9be970683f09"
      },
      "execution_count": 8,
      "outputs": [
        {
          "output_type": "stream",
          "name": "stdout",
          "text": [
            "[100, 102, 2, 30, -1]\n",
            "[100, 101, 102, 2, 30, -1]\n"
          ]
        }
      ]
    },
    {
      "cell_type": "code",
      "source": [
        "#2-1) 리스트:extend()\n",
        "lst_test=[20250820,\"수요일\",True,\"강남역\"]\n",
        "print(lst_test)\n",
        "lst_test.append(\"부산\")\n",
        "print(lst_test)\n",
        "lst_test.extend(\"부산\")\n",
        "print(lst_test)\n",
        "lst_test.extend([\"부산\"])\n",
        "print(lst_test)\n",
        "lst_test.append([\"부산\",False])\n",
        "print(lst_test)\n",
        "lst_test.extend([\"부산\",False])\n",
        "print(lst_test)"
      ],
      "metadata": {
        "id": "QxBe_mDOf7PI"
      },
      "execution_count": null,
      "outputs": []
    },
    {
      "cell_type": "code",
      "source": [
        "#사전형 자료구조 형태는\n",
        "dict_test={'name' : 'pey',\n",
        "           'phone' : '010-9999-1234',\n",
        "           'birth' : '1118'}\n",
        "print(dict_test)\n",
        "print(dict_test[\"name\"])\n",
        "#사전형 자료구조용 함수?\n",
        "print(dict_test.keys())\n",
        "print(dict_test.values())\n",
        "print(dict_test.items())\n",
        "print(dict_test.get(\"name\")) #위의 dict_test[\"name\"]과 같은 결과"
      ],
      "metadata": {
        "colab": {
          "base_uri": "https://localhost:8080/"
        },
        "id": "ew5H89OujCXt",
        "outputId": "8dc89e56-af48-489c-9cc4-7426ab6c6d69"
      },
      "execution_count": 12,
      "outputs": [
        {
          "output_type": "stream",
          "name": "stdout",
          "text": [
            "{'name': 'pey', 'phone': '010-9999-1234', 'birth': '1118'}\n",
            "pey\n",
            "dict_keys(['name', 'phone', 'birth'])\n",
            "dict_values(['pey', '010-9999-1234', '1118'])\n",
            "dict_items([('name', 'pey'), ('phone', '010-9999-1234'), ('birth', '1118')])\n",
            "pey\n"
          ]
        }
      ]
    },
    {
      "cell_type": "code",
      "source": [
        "#2-3) 튜플 수정이 안된다. 잘 안쓴다.\n",
        "tuple_test=(1+3, \"Hello\"+\"world\")\n",
        "print(tuple_test)\n",
        "1+3, \"Hello\"+\"world\"#파이썬이 연산을 줄때 튜플로준다.\n",
        "t1=() #tuple 초기화\n",
        "t2=(1,) #tuple 개수는 1개, 값은 1\n",
        "t3=(1,2,3)\n",
        "t4=1,2,3 #위와 같은것\n",
        "t5=(1,2,(1,2))\n",
        "print(t1,t2,t3,t4,t5)\n",
        "\n",
        "t6=(1) #tuple이 아니고 그냥숫자다\n",
        "print(t6)\n",
        "t1=1,2,3#이러면 튜플\n",
        "t1,t2,t3=1,2,3#이건 튜플아님"
      ],
      "metadata": {
        "colab": {
          "base_uri": "https://localhost:8080/"
        },
        "id": "oF07QFtgla5l",
        "outputId": "5e3fa59a-ee76-4275-bcd0-c2a88ef572d1"
      },
      "execution_count": 19,
      "outputs": [
        {
          "output_type": "stream",
          "name": "stdout",
          "text": [
            "(4, 'Helloworld')\n",
            "() (1,) (1, 2, 3) (1, 2, 3) (1, 2, (1, 2))\n",
            "1\n"
          ]
        }
      ]
    },
    {
      "cell_type": "code",
      "source": [
        "#2-4) 집합 set 중복을 허용한다. 순서가 무관이다.\n",
        "{1,2,3,4,5, \"MegaIT\", \"IT\",\"IT\", 4,5,6,7,True,False}#True 는 1로 취급되어서 중복이다.\n",
        "\n",
        "s1=set([1,2,3,4,5,6])\n",
        "s2=set([4,5,6,7,8,9])\n",
        "print(s1)\n",
        "print(s2)\n",
        "print(s1&s2)#교집합\n",
        "print(s1|s2)#합집합\n",
        "print(s1-s2)#차집합\n",
        "print(s2-s1)#차집합"
      ],
      "metadata": {
        "colab": {
          "base_uri": "https://localhost:8080/"
        },
        "id": "53gQ_gHRriaz",
        "outputId": "c7ff00f6-9812-4159-d851-d8d546584e31"
      },
      "execution_count": 21,
      "outputs": [
        {
          "output_type": "stream",
          "name": "stdout",
          "text": [
            "{1, 2, 3, 4, 5, 6}\n",
            "{4, 5, 6, 7, 8, 9}\n",
            "{4, 5, 6}\n",
            "{1, 2, 3, 4, 5, 6, 7, 8, 9}\n",
            "{1, 2, 3}\n",
            "{8, 9, 7}\n"
          ]
        }
      ]
    },
    {
      "cell_type": "code",
      "source": [
        "money=2000#elif를 통해 else -if 중첩을 피할수있다.\n",
        "if money>5000:#boolean 형태의 결과가 나와야함\n",
        "  print(\"택시를 타고가라\")\n",
        "elif money>=2000:\n",
        "  print(\"버스를타고가라\")\n",
        "else:\n",
        "  print(\"걸어가라\")"
      ],
      "metadata": {
        "colab": {
          "base_uri": "https://localhost:8080/"
        },
        "id": "10jpoNEOvEsx",
        "outputId": "f6fa0fef-482e-41cf-8b3a-a688da6b1eb9"
      },
      "execution_count": 25,
      "outputs": [
        {
          "output_type": "stream",
          "name": "stdout",
          "text": [
            "버스를타고가라\n"
          ]
        }
      ]
    },
    {
      "cell_type": "code",
      "source": [
        "#논리적 오류 잘계산해서 짜야함 에러가안나서 논리적오류를 잘계산해야한다.\n",
        "money=5000#elif를 통해 else -if 중첩을 피할수있다.\n",
        "if money>1500:#boolean 형태의 결과가 나와야함\n",
        "  print(\"걸어가라\")\n",
        "elif money>=2000:\n",
        "  print(\"버스를타고가라\")\n",
        "else:\n",
        "  print(\"택시를 타고가라\")"
      ],
      "metadata": {
        "colab": {
          "base_uri": "https://localhost:8080/"
        },
        "id": "tQrlYsxBxIEo",
        "outputId": "d550cb84-d8c1-4c77-8285-c2c68accbe54"
      },
      "execution_count": 27,
      "outputs": [
        {
          "output_type": "stream",
          "name": "stdout",
          "text": [
            "걸어가라\n"
          ]
        }
      ]
    }
  ]
}