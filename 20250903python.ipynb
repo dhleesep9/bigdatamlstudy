{
  "nbformat": 4,
  "nbformat_minor": 0,
  "metadata": {
    "colab": {
      "provenance": [],
      "authorship_tag": "ABX9TyOHiyVwu6NA6aEsg4rg4vRE",
      "include_colab_link": true
    },
    "kernelspec": {
      "name": "python3",
      "display_name": "Python 3"
    },
    "language_info": {
      "name": "python"
    }
  },
  "cells": [
    {
      "cell_type": "markdown",
      "metadata": {
        "id": "view-in-github",
        "colab_type": "text"
      },
      "source": [
        "<a href=\"https://colab.research.google.com/github/dhleesep9/bigdatamlstudy/blob/main/20250903python.ipynb\" target=\"_parent\"><img src=\"https://colab.research.google.com/assets/colab-badge.svg\" alt=\"Open In Colab\"/></a>"
      ]
    },
    {
      "cell_type": "code",
      "execution_count": 12,
      "metadata": {
        "colab": {
          "base_uri": "https://localhost:8080/"
        },
        "id": "JR_1BRkEBc7O",
        "outputId": "392d1d0c-365a-4a6d-df8f-c89416e29d3e"
      },
      "outputs": [
        {
          "output_type": "stream",
          "name": "stdout",
          "text": [
            "4000\n"
          ]
        }
      ],
      "source": [
        "def count_8(num):\n",
        "  a=0\n",
        "  for i in range(1,num+1):\n",
        "    a+=str(i).count(\"8\")\n",
        "  print(a)\n",
        "count_8(10000)"
      ]
    },
    {
      "cell_type": "code",
      "source": [
        "num=20\n",
        "[n for n in range(1,num+1)]#리스트 컴프리헨션"
      ],
      "metadata": {
        "colab": {
          "base_uri": "https://localhost:8080/"
        },
        "id": "y9qOTXm7JX3l",
        "outputId": "c60ec812-2699-4bad-d506-93d84f18be19"
      },
      "execution_count": 16,
      "outputs": [
        {
          "output_type": "execute_result",
          "data": {
            "text/plain": [
              "[1, 2, 3, 4, 5, 6, 7, 8, 9, 10, 11, 12, 13, 14, 15, 16, 17, 18, 19, 20]"
            ]
          },
          "metadata": {},
          "execution_count": 16
        }
      ]
    },
    {
      "cell_type": "code",
      "source": [
        "str([1,2,3,4,5]).count(\",\")#리스트 자체를 str로 변환가능"
      ],
      "metadata": {
        "colab": {
          "base_uri": "https://localhost:8080/"
        },
        "id": "afVIyz7gJuhN",
        "outputId": "0d31d719-1e30-4545-ea47-e5f0af013289"
      },
      "execution_count": 19,
      "outputs": [
        {
          "output_type": "execute_result",
          "data": {
            "text/plain": [
              "4"
            ]
          },
          "metadata": {},
          "execution_count": 19
        }
      ]
    },
    {
      "cell_type": "code",
      "source": [
        "#클래스 정의 예시 :\n",
        "class calculator:\n",
        "  def __init__(self):\n",
        "    self.result=0\n",
        "  def add(self,num):\n",
        "    self.result+=num\n",
        "    return self.result\n",
        "  def sub(self,num):\n",
        "    self.result-=num\n",
        "    return self.result\n",
        "cal1 = calculator()\n",
        "cal1.add(3)\n",
        "cal1.add(4)"
      ],
      "metadata": {
        "colab": {
          "base_uri": "https://localhost:8080/"
        },
        "id": "xnDSFGM6Q5gZ",
        "outputId": "dbca25ba-ec79-41ed-910d-3be4cfd294c1"
      },
      "execution_count": 24,
      "outputs": [
        {
          "output_type": "execute_result",
          "data": {
            "text/plain": [
              "7"
            ]
          },
          "metadata": {},
          "execution_count": 24
        }
      ]
    },
    {
      "cell_type": "code",
      "source": [
        "#클래스 두개 사용 가능\n",
        "class add_calculator(calculator):\n",
        "  def mul(self,num):\n",
        "    self.result*=num\n",
        "    return self.result\n",
        "cal2=add_calculator()\n",
        "cal2.add(3)\n",
        "cal2.add(4)\n",
        "cal2.mul(5)"
      ],
      "metadata": {
        "colab": {
          "base_uri": "https://localhost:8080/"
        },
        "id": "EPNMm0jCVDGv",
        "outputId": "3ff649ac-7371-46af-c218-604019386441"
      },
      "execution_count": 26,
      "outputs": [
        {
          "output_type": "execute_result",
          "data": {
            "text/plain": [
              "35"
            ]
          },
          "metadata": {},
          "execution_count": 26
        }
      ]
    },
    {
      "cell_type": "code",
      "source": [
        "#클래스 오버라이딩 동일한 함수를 정의했다면 자신의 것을 주로 쓴다.\n",
        "class add2_calculator(add_calculator):\n",
        "  def div(self, num):\n",
        "    self.result /=num\n",
        "    return self.result\n",
        "  def add(self, num):\n",
        "    self.result += num\n",
        "    self.result += 10\n",
        "    return self.result\n",
        "A=add2_calculator()\n",
        "A.add(10)"
      ],
      "metadata": {
        "colab": {
          "base_uri": "https://localhost:8080/"
        },
        "id": "IG7z_yxjZFd0",
        "outputId": "5f2a479f-a890-44b5-c7be-90c9743399c0"
      },
      "execution_count": 27,
      "outputs": [
        {
          "output_type": "execute_result",
          "data": {
            "text/plain": [
              "20"
            ]
          },
          "metadata": {},
          "execution_count": 27
        }
      ]
    },
    {
      "cell_type": "code",
      "source": [
        "#모듈은 클래스를 모아놓은것 (아는것이니 생략)"
      ],
      "metadata": {
        "id": "bns_KtuDgpbi"
      },
      "execution_count": 29,
      "outputs": []
    },
    {
      "cell_type": "code",
      "source": [
        "#import module"
      ],
      "metadata": {
        "id": "NMS4TnXehXio"
      },
      "execution_count": 30,
      "outputs": []
    },
    {
      "cell_type": "code",
      "source": [
        "#import module as m"
      ],
      "metadata": {
        "id": "Nr1l00YchZ2o"
      },
      "execution_count": 31,
      "outputs": []
    },
    {
      "cell_type": "code",
      "source": [
        "#from module import 함수"
      ],
      "metadata": {
        "id": "cufIhBhfhcbo"
      },
      "execution_count": 32,
      "outputs": []
    },
    {
      "cell_type": "markdown",
      "source": [
        "셋다가능"
      ],
      "metadata": {
        "id": "QqHyhs4chiqx"
      }
    },
    {
      "cell_type": "code",
      "source": [
        "!pip install googletrans==3.1.0a0"
      ],
      "metadata": {
        "colab": {
          "base_uri": "https://localhost:8080/"
        },
        "id": "a-lwydZRjAyQ",
        "outputId": "333c2843-6c74-4985-8593-dfbdce6db1be"
      },
      "execution_count": 1,
      "outputs": [
        {
          "output_type": "stream",
          "name": "stdout",
          "text": [
            "Requirement already satisfied: googletrans==3.1.0a0 in /usr/local/lib/python3.12/dist-packages (3.1.0a0)\n",
            "Requirement already satisfied: httpx==0.13.3 in /usr/local/lib/python3.12/dist-packages (from googletrans==3.1.0a0) (0.13.3)\n",
            "Requirement already satisfied: certifi in /usr/local/lib/python3.12/dist-packages (from httpx==0.13.3->googletrans==3.1.0a0) (2025.8.3)\n",
            "Requirement already satisfied: hstspreload in /usr/local/lib/python3.12/dist-packages (from httpx==0.13.3->googletrans==3.1.0a0) (2025.1.1)\n",
            "Requirement already satisfied: sniffio in /usr/local/lib/python3.12/dist-packages (from httpx==0.13.3->googletrans==3.1.0a0) (1.3.1)\n",
            "Requirement already satisfied: chardet==3.* in /usr/local/lib/python3.12/dist-packages (from httpx==0.13.3->googletrans==3.1.0a0) (3.0.4)\n",
            "Requirement already satisfied: idna==2.* in /usr/local/lib/python3.12/dist-packages (from httpx==0.13.3->googletrans==3.1.0a0) (2.10)\n",
            "Requirement already satisfied: rfc3986<2,>=1.3 in /usr/local/lib/python3.12/dist-packages (from httpx==0.13.3->googletrans==3.1.0a0) (1.5.0)\n",
            "Requirement already satisfied: httpcore==0.9.* in /usr/local/lib/python3.12/dist-packages (from httpx==0.13.3->googletrans==3.1.0a0) (0.9.1)\n",
            "Requirement already satisfied: h11<0.10,>=0.8 in /usr/local/lib/python3.12/dist-packages (from httpcore==0.9.*->httpx==0.13.3->googletrans==3.1.0a0) (0.9.0)\n",
            "Requirement already satisfied: h2==3.* in /usr/local/lib/python3.12/dist-packages (from httpcore==0.9.*->httpx==0.13.3->googletrans==3.1.0a0) (3.2.0)\n",
            "Requirement already satisfied: hyperframe<6,>=5.2.0 in /usr/local/lib/python3.12/dist-packages (from h2==3.*->httpcore==0.9.*->httpx==0.13.3->googletrans==3.1.0a0) (5.2.0)\n",
            "Requirement already satisfied: hpack<4,>=3.0 in /usr/local/lib/python3.12/dist-packages (from h2==3.*->httpcore==0.9.*->httpx==0.13.3->googletrans==3.1.0a0) (3.0.0)\n"
          ]
        }
      ]
    },
    {
      "cell_type": "code",
      "source": [
        "#패키지 읽어들이기:import <패키지명>\n",
        "import googletrans\n",
        "googletrans.LANGUAGES\n",
        "googletrans.LANGCODES"
      ],
      "metadata": {
        "colab": {
          "base_uri": "https://localhost:8080/"
        },
        "collapsed": true,
        "id": "_GlnUh10jFqo",
        "outputId": "4b18a603-4f29-4209-8eb5-926b642fe111"
      },
      "execution_count": 3,
      "outputs": [
        {
          "output_type": "execute_result",
          "data": {
            "text/plain": [
              "{'afrikaans': 'af',\n",
              " 'albanian': 'sq',\n",
              " 'amharic': 'am',\n",
              " 'arabic': 'ar',\n",
              " 'armenian': 'hy',\n",
              " 'azerbaijani': 'az',\n",
              " 'basque': 'eu',\n",
              " 'belarusian': 'be',\n",
              " 'bengali': 'bn',\n",
              " 'bosnian': 'bs',\n",
              " 'bulgarian': 'bg',\n",
              " 'catalan': 'ca',\n",
              " 'cebuano': 'ceb',\n",
              " 'chichewa': 'ny',\n",
              " 'chinese (simplified)': 'zh-cn',\n",
              " 'chinese (traditional)': 'zh-tw',\n",
              " 'corsican': 'co',\n",
              " 'croatian': 'hr',\n",
              " 'czech': 'cs',\n",
              " 'danish': 'da',\n",
              " 'dutch': 'nl',\n",
              " 'english': 'en',\n",
              " 'esperanto': 'eo',\n",
              " 'estonian': 'et',\n",
              " 'filipino': 'tl',\n",
              " 'finnish': 'fi',\n",
              " 'french': 'fr',\n",
              " 'frisian': 'fy',\n",
              " 'galician': 'gl',\n",
              " 'georgian': 'ka',\n",
              " 'german': 'de',\n",
              " 'greek': 'el',\n",
              " 'gujarati': 'gu',\n",
              " 'haitian creole': 'ht',\n",
              " 'hausa': 'ha',\n",
              " 'hawaiian': 'haw',\n",
              " 'hebrew': 'he',\n",
              " 'hindi': 'hi',\n",
              " 'hmong': 'hmn',\n",
              " 'hungarian': 'hu',\n",
              " 'icelandic': 'is',\n",
              " 'igbo': 'ig',\n",
              " 'indonesian': 'id',\n",
              " 'irish': 'ga',\n",
              " 'italian': 'it',\n",
              " 'japanese': 'ja',\n",
              " 'javanese': 'jw',\n",
              " 'kannada': 'kn',\n",
              " 'kazakh': 'kk',\n",
              " 'khmer': 'km',\n",
              " 'korean': 'ko',\n",
              " 'kurdish (kurmanji)': 'ku',\n",
              " 'kyrgyz': 'ky',\n",
              " 'lao': 'lo',\n",
              " 'latin': 'la',\n",
              " 'latvian': 'lv',\n",
              " 'lithuanian': 'lt',\n",
              " 'luxembourgish': 'lb',\n",
              " 'macedonian': 'mk',\n",
              " 'malagasy': 'mg',\n",
              " 'malay': 'ms',\n",
              " 'malayalam': 'ml',\n",
              " 'maltese': 'mt',\n",
              " 'maori': 'mi',\n",
              " 'marathi': 'mr',\n",
              " 'mongolian': 'mn',\n",
              " 'myanmar (burmese)': 'my',\n",
              " 'nepali': 'ne',\n",
              " 'norwegian': 'no',\n",
              " 'odia': 'or',\n",
              " 'pashto': 'ps',\n",
              " 'persian': 'fa',\n",
              " 'polish': 'pl',\n",
              " 'portuguese': 'pt',\n",
              " 'punjabi': 'pa',\n",
              " 'romanian': 'ro',\n",
              " 'russian': 'ru',\n",
              " 'samoan': 'sm',\n",
              " 'scots gaelic': 'gd',\n",
              " 'serbian': 'sr',\n",
              " 'sesotho': 'st',\n",
              " 'shona': 'sn',\n",
              " 'sindhi': 'sd',\n",
              " 'sinhala': 'si',\n",
              " 'slovak': 'sk',\n",
              " 'slovenian': 'sl',\n",
              " 'somali': 'so',\n",
              " 'spanish': 'es',\n",
              " 'sundanese': 'su',\n",
              " 'swahili': 'sw',\n",
              " 'swedish': 'sv',\n",
              " 'tajik': 'tg',\n",
              " 'tamil': 'ta',\n",
              " 'telugu': 'te',\n",
              " 'thai': 'th',\n",
              " 'turkish': 'tr',\n",
              " 'ukrainian': 'uk',\n",
              " 'urdu': 'ur',\n",
              " 'uyghur': 'ug',\n",
              " 'uzbek': 'uz',\n",
              " 'vietnamese': 'vi',\n",
              " 'welsh': 'cy',\n",
              " 'xhosa': 'xh',\n",
              " 'yiddish': 'yi',\n",
              " 'yoruba': 'yo',\n",
              " 'zulu': 'zu'}"
            ]
          },
          "metadata": {},
          "execution_count": 3
        }
      ]
    },
    {
      "cell_type": "code",
      "source": [
        "trans1 = googletrans.Translator()\n",
        "output1 = trans1.translate('안녕하세요, 오늘 수업 끝', dest='en')\n",
        "print(output1.text)"
      ],
      "metadata": {
        "colab": {
          "base_uri": "https://localhost:8080/"
        },
        "id": "yIS08jfzjpBh",
        "outputId": "495c58f4-a6e1-4722-83ed-e626cb92b1dc"
      },
      "execution_count": 22,
      "outputs": [
        {
          "output_type": "stream",
          "name": "stdout",
          "text": [
            "Hello, the end of today's class\n"
          ]
        }
      ]
    },
    {
      "cell_type": "code",
      "source": [
        "txt="
      ],
      "metadata": {
        "id": "tZR4vPbUlEzo"
      },
      "execution_count": null,
      "outputs": []
    }
  ]
}