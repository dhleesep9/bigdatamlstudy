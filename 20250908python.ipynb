{
  "nbformat": 4,
  "nbformat_minor": 0,
  "metadata": {
    "colab": {
      "provenance": [],
      "authorship_tag": "ABX9TyOwglGqk/KXue3wzxZyqN2o",
      "include_colab_link": true
    },
    "kernelspec": {
      "name": "python3",
      "display_name": "Python 3"
    },
    "language_info": {
      "name": "python"
    }
  },
  "cells": [
    {
      "cell_type": "markdown",
      "metadata": {
        "id": "view-in-github",
        "colab_type": "text"
      },
      "source": [
        "<a href=\"https://colab.research.google.com/github/dhleesep9/bigdatamlstudy/blob/main/20250908python.ipynb\" target=\"_parent\"><img src=\"https://colab.research.google.com/assets/colab-badge.svg\" alt=\"Open In Colab\"/></a>"
      ]
    },
    {
      "cell_type": "markdown",
      "source": [
        "https://school.programmers.co.kr/learn/courses/30/lessons/340213?language=python3 문제풀이"
      ],
      "metadata": {
        "id": "hfkIbgRK_Ue_"
      }
    },
    {
      "cell_type": "code",
      "execution_count": 25,
      "metadata": {
        "id": "yMZwWM5Q04Kr"
      },
      "outputs": [],
      "source": [
        "def solution(video_len, pos, op_start, op_end, commands):\n",
        "\n",
        "    def time_to_seconds(time_str):\n",
        "        minutes, seconds = map(int, time_str.split(':'))\n",
        "        return minutes * 60 + seconds\n",
        "    def seconds_to_time(total_seconds):\n",
        "        minutes = total_seconds // 60\n",
        "        seconds = total_seconds % 60\n",
        "        return f\"{minutes:02d}:{seconds:02d}\"\n",
        "    video_len_sec = time_to_seconds(video_len)\n",
        "    current_pos_sec = time_to_seconds(pos)\n",
        "    op_start_sec = time_to_seconds(op_start)\n",
        "    op_end_sec = time_to_seconds(op_end)\n",
        "    for command in commands:\n",
        "        if command == \"next\":\n",
        "            if op_start_sec <= current_pos_sec < op_end_sec:\n",
        "                current_pos_sec = op_end_sec\n",
        "            else:\n",
        "                current_pos_sec = min(video_len_sec,current_pos_sec+10)\n",
        "        elif command == \"prev\":\n",
        "            current_pos_sec = max(0, current_pos_sec - 10)\n",
        "    return seconds_to_time(current_pos_sec)\n"
      ]
    },
    {
      "cell_type": "code",
      "source": [
        "solution(\"34:33\",\t\"13:00\",\t\"00:55\",\t\"02:55\",\t[\"next\",\"prev\"])"
      ],
      "metadata": {
        "colab": {
          "base_uri": "https://localhost:8080/",
          "height": 35
        },
        "id": "MZFSaJJF8sO5",
        "outputId": "978e83fd-3eb8-4aa7-f7c1-acffc2475a35"
      },
      "execution_count": 26,
      "outputs": [
        {
          "output_type": "execute_result",
          "data": {
            "text/plain": [
              "'13:00'"
            ],
            "application/vnd.google.colaboratory.intrinsic+json": {
              "type": "string"
            }
          },
          "metadata": {},
          "execution_count": 26
        }
      ]
    },
    {
      "cell_type": "markdown",
      "source": [],
      "metadata": {
        "id": "eim_cDE4BrS1"
      }
    },
    {
      "cell_type": "code",
      "source": [
        "eval(\"1+4\") #문자형으로 표현된 연산의 실행결과를 표시한다."
      ],
      "metadata": {
        "colab": {
          "base_uri": "https://localhost:8080/"
        },
        "id": "6u8BT_H-Bp31",
        "outputId": "fbf8cb38-f9f4-41e1-c0b8-d39eed03a79e"
      },
      "execution_count": 28,
      "outputs": [
        {
          "output_type": "execute_result",
          "data": {
            "text/plain": [
              "5"
            ]
          },
          "metadata": {},
          "execution_count": 28
        }
      ]
    },
    {
      "cell_type": "code",
      "source": [
        "map(int,\"0,3\")#map(함수이름,넣고자하는 값)"
      ],
      "metadata": {
        "colab": {
          "base_uri": "https://localhost:8080/"
        },
        "id": "BPpXJfpeBrn1",
        "outputId": "9f71e970-a26e-4bee-bf68-c69b1fe50405"
      },
      "execution_count": 30,
      "outputs": [
        {
          "output_type": "execute_result",
          "data": {
            "text/plain": [
              "[0, 3]"
            ]
          },
          "metadata": {},
          "execution_count": 30
        }
      ]
    },
    {
      "cell_type": "code",
      "source": [
        "list(filter(abs, [1,2,4,-1,0,4]))"
      ],
      "metadata": {
        "colab": {
          "base_uri": "https://localhost:8080/"
        },
        "id": "bOj4WAmvEKdV",
        "outputId": "2cf66c87-98eb-4331-f74f-58e354850cdd"
      },
      "execution_count": 34,
      "outputs": [
        {
          "output_type": "execute_result",
          "data": {
            "text/plain": [
              "[1, 2, 4, -1, 4]"
            ]
          },
          "metadata": {},
          "execution_count": 34
        }
      ]
    },
    {
      "cell_type": "code",
      "source": [
        "a=3\n",
        "print(a,id(a))#주소를 나타낸다."
      ],
      "metadata": {
        "colab": {
          "base_uri": "https://localhost:8080/"
        },
        "id": "HVelT9_tE_-1",
        "outputId": "ba0434cd-67e4-4aa9-ae37-3e151642f8d2"
      },
      "execution_count": 36,
      "outputs": [
        {
          "output_type": "stream",
          "name": "stdout",
          "text": [
            "3 11642152\n"
          ]
        }
      ]
    },
    {
      "cell_type": "code",
      "source": [
        "max(\"Apython\")\n",
        "min(\"Apython\")"
      ],
      "metadata": {
        "colab": {
          "base_uri": "https://localhost:8080/",
          "height": 35
        },
        "id": "_NOlP-VQFSXU",
        "outputId": "eace72ea-b6b3-4d76-dc24-f3b9a804e10e"
      },
      "execution_count": 40,
      "outputs": [
        {
          "output_type": "execute_result",
          "data": {
            "text/plain": [
              "'A'"
            ],
            "application/vnd.google.colaboratory.intrinsic+json": {
              "type": "string"
            }
          },
          "metadata": {},
          "execution_count": 40
        }
      ]
    },
    {
      "cell_type": "code",
      "source": [
        "ord('a') #chr 과 반대로 동작한다"
      ],
      "metadata": {
        "colab": {
          "base_uri": "https://localhost:8080/"
        },
        "id": "L9Q81nLyFV7r",
        "outputId": "d17619a9-1cce-4957-8d6c-92b970b05fd7"
      },
      "execution_count": 41,
      "outputs": [
        {
          "output_type": "execute_result",
          "data": {
            "text/plain": [
              "97"
            ]
          },
          "metadata": {},
          "execution_count": 41
        }
      ]
    },
    {
      "cell_type": "code",
      "source": [
        "range(1,5,1) #start_point<=,  <end_point, step"
      ],
      "metadata": {
        "colab": {
          "base_uri": "https://localhost:8080/"
        },
        "id": "WyUgG_FpG3Ak",
        "outputId": "e99bcda4-76d3-49a4-9762-7edf63fdc0fc"
      },
      "execution_count": 42,
      "outputs": [
        {
          "output_type": "execute_result",
          "data": {
            "text/plain": [
              "range(1, 5)"
            ]
          },
          "metadata": {},
          "execution_count": 42
        }
      ]
    },
    {
      "cell_type": "code",
      "source": [
        "round(3.1415926, 3) #반올림\n",
        "import math, numpy\n",
        "math.ceil(3.1415)"
      ],
      "metadata": {
        "colab": {
          "base_uri": "https://localhost:8080/"
        },
        "id": "a-y93pILHIG0",
        "outputId": "158043a8-18e1-436b-d1b9-d66b71c9b43c"
      },
      "execution_count": 46,
      "outputs": [
        {
          "output_type": "execute_result",
          "data": {
            "text/plain": [
              "4"
            ]
          },
          "metadata": {},
          "execution_count": 46
        }
      ]
    },
    {
      "cell_type": "code",
      "source": [
        "sorted([3,1,2],reverse=True)"
      ],
      "metadata": {
        "colab": {
          "base_uri": "https://localhost:8080/"
        },
        "id": "8eVPfMcjHrpb",
        "outputId": "4f5c4031-6f12-4286-b44b-f184c8f7a723"
      },
      "execution_count": 49,
      "outputs": [
        {
          "output_type": "execute_result",
          "data": {
            "text/plain": [
              "[3, 2, 1]"
            ]
          },
          "metadata": {},
          "execution_count": 49
        }
      ]
    },
    {
      "cell_type": "code",
      "source": [
        "list(zip([1,2,3],[4,5,6],[7,8,9])) #서로만나는 애들끼리 튜플을 이룬다."
      ],
      "metadata": {
        "colab": {
          "base_uri": "https://localhost:8080/"
        },
        "id": "OaFRzQm1JmKb",
        "outputId": "38281538-a7e5-4500-d55c-3e88a823b57e"
      },
      "execution_count": 50,
      "outputs": [
        {
          "output_type": "execute_result",
          "data": {
            "text/plain": [
              "[(1, 4, 7), (2, 5, 8), (3, 6, 9)]"
            ]
          },
          "metadata": {},
          "execution_count": 50
        }
      ]
    },
    {
      "cell_type": "code",
      "source": [
        "list(zip([1,2],[3,4,5],[6,7,8]))#이런경우 두개만 사용가능하다"
      ],
      "metadata": {
        "colab": {
          "base_uri": "https://localhost:8080/"
        },
        "id": "F7e8WZA6J3B6",
        "outputId": "7e82e46d-841a-4d07-e631-42ef3ce74956"
      },
      "execution_count": 51,
      "outputs": [
        {
          "output_type": "execute_result",
          "data": {
            "text/plain": [
              "[(1, 3, 6), (2, 4, 7)]"
            ]
          },
          "metadata": {},
          "execution_count": 51
        }
      ]
    },
    {
      "cell_type": "code",
      "source": [
        "import datetime\n",
        "datetime.datetime.now()\n",
        "datetime.datetime.time\n",
        "# 시간, 일자 간 계산 예\n",
        "day1=datetime.date(2025,1,1)\n",
        "day2=datetime.date(2025,9,8)\n",
        "day2-day1,(day2-day1).days#주로쓰는것은 이것\n",
        "datetime.datetime.now().weekday() # 0:sun - 6:sun"
      ],
      "metadata": {
        "colab": {
          "base_uri": "https://localhost:8080/"
        },
        "id": "GgVrp7XXNrdp",
        "outputId": "aaf9715c-3110-4dab-f53a-60055d29f32d"
      },
      "execution_count": 56,
      "outputs": [
        {
          "output_type": "execute_result",
          "data": {
            "text/plain": [
              "0"
            ]
          },
          "metadata": {},
          "execution_count": 56
        }
      ]
    },
    {
      "cell_type": "code",
      "source": [
        "import time\n",
        "time.time()\n",
        "time.localtime(time.time())\n",
        "time.strftime(\"%Y-%b-%d %H:%M:%S\", time.localtime(time.time()))\n",
        "time.sleep(3)#시간을 일부러 질질 끌때\n",
        "print(\"delay\")"
      ],
      "metadata": {
        "colab": {
          "base_uri": "https://localhost:8080/",
          "height": 35
        },
        "id": "8oaGPhkuP2g4",
        "outputId": "f8489a71-4e37-48a7-df4e-58de31207a32"
      },
      "execution_count": 69,
      "outputs": [
        {
          "output_type": "execute_result",
          "data": {
            "text/plain": [
              "'2025-Sep-08 12:20:53'"
            ],
            "application/vnd.google.colaboratory.intrinsic+json": {
              "type": "string"
            }
          },
          "metadata": {},
          "execution_count": 69
        }
      ]
    },
    {
      "cell_type": "code",
      "source": [
        "import math\n",
        "import random\n",
        "random.random()\n",
        "random.randint(1,3)\n",
        "random.sample([\"A\",\"B\",\"C\",\"D\"],2)\n",
        "random.choice([\"A\",\"B\", \"C\",\"D\"])\n",
        "l=[\"A\",\"B\",\"C\",\"D\"]\n",
        "random.shuffle(l)\n",
        "print(l)"
      ],
      "metadata": {
        "colab": {
          "base_uri": "https://localhost:8080/"
        },
        "id": "cGytCREvSUKG",
        "outputId": "fca4e709-cc86-4435-87ea-e0d80d18bac1"
      },
      "execution_count": 89,
      "outputs": [
        {
          "output_type": "stream",
          "name": "stdout",
          "text": [
            "['B', 'C', 'A', 'D']\n"
          ]
        }
      ]
    },
    {
      "cell_type": "code",
      "source": [
        "import glob\n",
        "glob.glob(\"sample_data/*\")"
      ],
      "metadata": {
        "colab": {
          "base_uri": "https://localhost:8080/"
        },
        "id": "sIoIGp_ETFzm",
        "outputId": "4d007744-f4d9-46f9-f027-2ed84a2c2458"
      },
      "execution_count": 90,
      "outputs": [
        {
          "output_type": "execute_result",
          "data": {
            "text/plain": [
              "['sample_data/README.md',\n",
              " 'sample_data/anscombe.json',\n",
              " 'sample_data/california_housing_train.csv',\n",
              " 'sample_data/california_housing_test.csv',\n",
              " 'sample_data/mnist_train_small.csv',\n",
              " 'sample_data/mnist_test.csv']"
            ]
          },
          "metadata": {},
          "execution_count": 90
        }
      ]
    }
  ]
}