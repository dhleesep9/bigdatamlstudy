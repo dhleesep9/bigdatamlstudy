{
  "nbformat": 4,
  "nbformat_minor": 0,
  "metadata": {
    "colab": {
      "provenance": [],
      "authorship_tag": "ABX9TyNgwqMVRjIqwjXi4xAlnC0A",
      "include_colab_link": true
    },
    "kernelspec": {
      "name": "python3",
      "display_name": "Python 3"
    },
    "language_info": {
      "name": "python"
    }
  },
  "cells": [
    {
      "cell_type": "markdown",
      "metadata": {
        "id": "view-in-github",
        "colab_type": "text"
      },
      "source": [
        "<a href=\"https://colab.research.google.com/github/dhleesep9/bigdatamlstudy/blob/main/Python_20250818.ipynb\" target=\"_parent\"><img src=\"https://colab.research.google.com/assets/colab-badge.svg\" alt=\"Open In Colab\"/></a>"
      ]
    },
    {
      "cell_type": "code",
      "execution_count": null,
      "metadata": {
        "colab": {
          "base_uri": "https://localhost:8080/"
        },
        "id": "Fc5C-y3v4LGm",
        "outputId": "7b791085-d04d-4cda-93f8-63f4b9ed9673"
      },
      "outputs": [
        {
          "output_type": "execute_result",
          "data": {
            "text/plain": [
              "3"
            ]
          },
          "metadata": {},
          "execution_count": 2
        }
      ],
      "source": [
        "#곱셈 계산:\n",
        "1*3"
      ]
    },
    {
      "cell_type": "markdown",
      "source": [
        "단축키:\n",
        "- 실행 ctrl(shift) + Enter\n",
        "- 간단한 주석 처리 : #\n",
        "- 전체 주석처리 ctrl + \"/\""
      ],
      "metadata": {
        "id": "sbTEyLSq6ddO"
      }
    },
    {
      "cell_type": "code",
      "source": [
        "# 1. 자료형\n",
        "# 1-1) Numbers\n",
        "type(123.0)"
      ],
      "metadata": {
        "colab": {
          "base_uri": "https://localhost:8080/"
        },
        "id": "Sd2u4Js78yf2",
        "outputId": "d3492cd8-a24b-49fb-adb5-6b3eb0945c21"
      },
      "execution_count": null,
      "outputs": [
        {
          "output_type": "execute_result",
          "data": {
            "text/plain": [
              "float"
            ]
          },
          "metadata": {},
          "execution_count": 8
        }
      ]
    },
    {
      "cell_type": "code",
      "source": [
        "print(123)\n",
        "print(234)"
      ],
      "metadata": {
        "colab": {
          "base_uri": "https://localhost:8080/"
        },
        "id": "cXkrPH-k80Vv",
        "outputId": "1e5cd3e8-b3eb-4258-9c14-29ac2ed7feca"
      },
      "execution_count": null,
      "outputs": [
        {
          "output_type": "stream",
          "name": "stdout",
          "text": [
            "123234\n"
          ]
        }
      ]
    },
    {
      "cell_type": "code",
      "source": [
        "print(123+10)\n",
        "print(123-10)\n",
        "print(123*10)\n",
        "print(123/10)"
      ],
      "metadata": {
        "colab": {
          "base_uri": "https://localhost:8080/"
        },
        "id": "S__KMZiM9ZeN",
        "outputId": "0c5a2a8b-5283-4b1d-eed4-21dc24dfc85e"
      },
      "execution_count": null,
      "outputs": [
        {
          "output_type": "stream",
          "name": "stdout",
          "text": [
            "133\n",
            "113\n",
            "1230\n",
            "12.3\n"
          ]
        }
      ]
    },
    {
      "cell_type": "code",
      "source": [
        "#특수한 연산기호\n",
        "print(123//10) #몫\n",
        "print(123%10) #나머지\n",
        "print(123 ** 2) #거듭제곱"
      ],
      "metadata": {
        "colab": {
          "base_uri": "https://localhost:8080/"
        },
        "id": "imlbLN5T-Hz1",
        "outputId": "af202e46-ae56-469c-f218-e48fdfd8e943"
      },
      "execution_count": null,
      "outputs": [
        {
          "output_type": "stream",
          "name": "stdout",
          "text": [
            "12\n",
            "3\n",
            "15129\n"
          ]
        }
      ]
    },
    {
      "cell_type": "code",
      "source": [
        "#복합 연산자 += -= *= **= /= //= %=\n",
        "a=1\n",
        "a *=3\n",
        "print(a)\n"
      ],
      "metadata": {
        "colab": {
          "base_uri": "https://localhost:8080/"
        },
        "id": "Y1ONrIJ4D-JG",
        "outputId": "1e20672d-9c33-47aa-a4be-739524f542f2"
      },
      "execution_count": null,
      "outputs": [
        {
          "output_type": "stream",
          "name": "stdout",
          "text": [
            "3\n"
          ]
        }
      ]
    },
    {
      "cell_type": "code",
      "source": [
        "#1-2) boolean 논리값 (T/F)\n",
        "print(True) #True// TRUE true TRue 이런거 안된다.\n",
        "print(False) #False// FALSE false FAlse 이런거 안된다\n",
        "\n",
        "# boolean 연산 True=1 False=0 이다.\n",
        "print(True + True) #된다 가능.2로뜬다.\n",
        "# boolean 결과활용:\n",
        "print(3+4<10)\n",
        "print(10>9)\n",
        "print(3+4==7)\n",
        "print(3+4!=7)\n",
        "print(3+4<=7)\n",
        "print(True and False)\n",
        "print(True or False)\n",
        "print(not True)"
      ],
      "metadata": {
        "colab": {
          "base_uri": "https://localhost:8080/"
        },
        "id": "tjz67DHw-zl0",
        "outputId": "78af0469-3059-4943-8523-5783dc60cc04"
      },
      "execution_count": null,
      "outputs": [
        {
          "output_type": "stream",
          "name": "stdout",
          "text": [
            "True\n",
            "False\n",
            "2\n",
            "False\n",
            "True\n",
            "False\n"
          ]
        }
      ]
    },
    {
      "cell_type": "code",
      "source": [
        "# 참고사항 : 값의 유무에 따라 참 거짓을 판단한다.\n",
        "print(bool(\"python\"))\n",
        "print(bool(\"\"))\n",
        "print(bool([]))"
      ],
      "metadata": {
        "colab": {
          "base_uri": "https://localhost:8080/"
        },
        "id": "_x11X2yB_wRd",
        "outputId": "2b1544db-2d98-4773-f568-80d5db39d3fe"
      },
      "execution_count": null,
      "outputs": [
        {
          "output_type": "stream",
          "name": "stdout",
          "text": [
            "True\n",
            "False\n",
            "False\n"
          ]
        }
      ]
    },
    {
      "cell_type": "code",
      "source": [
        "#1-3) string 문자열\n",
        "# 문자형 정의? 무엇을 문자형이라고 하는가?\n",
        "#print(\"do\"dd\")오류발생\n",
        "print(\"abcabc\")\n",
        "multiline=\"\"\"Life is good\n",
        "You need C\n",
        "\"\"\"\n",
        "print(multiline)\n",
        "# 문자형 인덱스는 무엇?\n",
        "print(\"Hello's World\")\n",
        "print(\"Hello's World\"[0])\n",
        "print(\"Hello's World\"[0:5])\n",
        "print(\"Hello's World\"[::-1])\n",
        "# 문자형만 가지는 함수는?\n",
        "print(\"Hello's World\")#누구든지 사용가능 적고싶은거\n",
        "\"Hello's World\".replace(\"World\",\"세상\")\n",
        "\"Hello's World\".count(\"o\")\n",
        "\"Hello's World\".split(\"o\")\n",
        "\"Hello's World\".find(\"k\")#문자 인덱스 찾기 없을떄 -1을반환한다\n",
        "\"Hello's World\".index(\"o\")#문자 인덱스 찾기 없을떄 에러가난다\n",
        "print(\"heelo \\\n",
        "\")#\\슬래쉬를 해주면 줄바꿈이 무시된다"
      ],
      "metadata": {
        "colab": {
          "base_uri": "https://localhost:8080/"
        },
        "id": "UCxi3XOJEHbk",
        "outputId": "08627a5e-c98f-462d-afed-aa449ed79768"
      },
      "execution_count": null,
      "outputs": [
        {
          "output_type": "stream",
          "name": "stdout",
          "text": [
            "abcabc\n",
            "Life is good\n",
            "You need C\n",
            "\n",
            "Hello's World\n",
            "H\n",
            "Hello\n",
            "dlroW s'olleH\n",
            "Hello's World\n"
          ]
        },
        {
          "output_type": "execute_result",
          "data": {
            "text/plain": [
              "4"
            ]
          },
          "metadata": {},
          "execution_count": 56
        }
      ]
    },
    {
      "cell_type": "code",
      "source": [
        "# 문자형에서 연산은?\n",
        "print(\"Hello\"+\" World\")#뺄셈은에러가 난다. 나누기도.\n",
        "print(\"=\"*20)\n",
        "print(\"=\"*20)\n",
        "print(\"=\"*20)\n",
        "\"Hello's World\".replace(\"World\",\"세상\")"
      ],
      "metadata": {
        "colab": {
          "base_uri": "https://localhost:8080/",
          "height": 109
        },
        "id": "ajk-NysKEsX-",
        "outputId": "0da43a52-6a77-4bde-dda8-617412c28bb1"
      },
      "execution_count": null,
      "outputs": [
        {
          "output_type": "stream",
          "name": "stdout",
          "text": [
            "Hello World\n",
            "====================\n",
            "====================\n",
            "====================\n"
          ]
        },
        {
          "output_type": "execute_result",
          "data": {
            "text/plain": [
              "\"Hello's 세상\""
            ],
            "application/vnd.google.colaboratory.intrinsic+json": {
              "type": "string"
            }
          },
          "metadata": {},
          "execution_count": 52
        }
      ]
    }
  ]
}